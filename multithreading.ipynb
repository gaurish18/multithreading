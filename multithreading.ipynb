{
 "cells": [
  {
   "cell_type": "markdown",
   "id": "bbfcc1a5-9954-4e59-8fec-39846b28b4f6",
   "metadata": {},
   "source": [
    "\n",
    "Multithreading in Python refers to a programming technique that allows a Python program to execute multiple threads concurrently. A thread is the smallest unit of a process, and multithreading enables a program to run multiple threads within a single process. Each thread can perform a specific task independently, making it a powerful tool for improving performance and responsiveness in certain types of applications.\n",
    "\n",
    "Python provides a built-in module called threading to handle threads. The threading module abstracts the low-level thread management and provides a high-level, easy-to-use interface for working with threads. It allows you to create, start, pause, resume, and synchronize threads in your Python programs.\n",
    "\n",
    "Here are some common reasons for using multithreading in Python:\n",
    "\n",
    "1.Improved Responsiveness: Multithreading can be used to keep a program responsive to user interactions, especially in graphical user interfaces (GUI) and web applications. By running time-consuming tasks in separate threads, the main thread remains free to respond to user input.\n",
    "\n",
    "2.Parallelism: Multithreading can take advantage of multi-core processors, allowing multiple threads to run in parallel. This can significantly improve the performance of CPU-bound tasks.\n",
    "\n",
    "3.I/O Operations: Multithreading is particularly useful when dealing with I/O-bound operations, such as reading and writing to files, network communication, or database operations. Threads can be used to perform these tasks concurrently, reducing wait times.\n",
    "\n",
    "4.Resource Sharing: Threads can share data and resources more easily than separate processes, making them suitable for scenarios where multiple components of an application need to work together.\n",
    "\n",
    "5.Concurrent Tasks: When you have multiple tasks that need to be performed concurrently, multithreading is a practical way to manage them efficiently."
   ]
  },
  {
   "cell_type": "code",
   "execution_count": 1,
   "id": "c4b84ee7-b846-427f-8683-fb9405ee8071",
   "metadata": {},
   "outputs": [
    {
     "name": "stdout",
     "output_type": "stream",
     "text": [
      "Thread Thread 1: 0\n",
      "Thread Thread 1: 1\n",
      "Thread Thread 1: 2\n",
      "Thread Thread 1: 3\n",
      "Thread Thread 1: 4\n",
      "Thread Thread 2: 0\n",
      "Thread Thread 2: 1\n",
      "Thread Thread 2: 2\n",
      "Thread Thread 2: 3\n",
      "Thread Thread 2: 4\n",
      "Main thread exiting\n"
     ]
    }
   ],
   "source": [
    "import threading\n",
    "\n",
    "# Define a function that represents the task to be performed in the thread\n",
    "def my_function():\n",
    "    for i in range(5):\n",
    "        print(f\"Thread {threading.current_thread().name}: {i}\")\n",
    "\n",
    "# Create two threads\n",
    "thread1 = threading.Thread(target=my_function, name=\"Thread 1\")\n",
    "thread2 = threading.Thread(target=my_function, name=\"Thread 2\")\n",
    "\n",
    "# Start the threads\n",
    "thread1.start()\n",
    "thread2.start()\n",
    "\n",
    "# Wait for both threads to complete\n",
    "thread1.join()\n",
    "thread2.join()\n",
    "\n",
    "print(\"Main thread exiting\")\n"
   ]
  },
  {
   "cell_type": "markdown",
   "id": "7cf976f4-1593-48ae-a371-f4edf30c7232",
   "metadata": {},
   "source": [
    "In this example, two threads are created, and they execute the my_function function concurrently. The join method is used to ensure that the main thread waits for both threads to finish before exiting.\n",
    "\n",
    "Keep in mind that while multithreading can provide performance benefits, it also introduces complexities related to synchronization and potential race conditions when multiple threads access shared resources. Proper thread synchronization mechanisms (e.g., locks, semaphores) should be used to avoid such issues."
   ]
  },
  {
   "cell_type": "code",
   "execution_count": null,
   "id": "ae2c8f28-a615-4820-a1a9-5a92d6112f1d",
   "metadata": {},
   "outputs": [],
   "source": []
  },
  {
   "cell_type": "markdown",
   "id": "c9c7f669-0223-4ee3-b4ea-0185ad17808b",
   "metadata": {},
   "source": [
    "The threading module in Python is used for working with threads and provides a high-level interface for creating, managing, and synchronizing threads. It simplifies the process of working with threads and is commonly used for multithreading in Python programs. Here are some functions provided by the threading module and their uses:"
   ]
  },
  {
   "cell_type": "markdown",
   "id": "a13fd87c-5580-48c2-8ef1-5641ce05a5c0",
   "metadata": {},
   "source": [
    "activeCount(): This function is used to retrieve the number of Thread objects currently alive. It returns the count of all Thread objects created and not yet terminated."
   ]
  },
  {
   "cell_type": "code",
   "execution_count": 2,
   "id": "acbb46a9-9b32-47f5-9181-3b5fafd44d02",
   "metadata": {},
   "outputs": [
    {
     "name": "stdout",
     "output_type": "stream",
     "text": [
      "Number of active threads: 8\n"
     ]
    },
    {
     "name": "stderr",
     "output_type": "stream",
     "text": [
      "/tmp/ipykernel_250/3509492104.py:4: DeprecationWarning: activeCount() is deprecated, use active_count() instead\n",
      "  count = threading.activeCount()\n"
     ]
    }
   ],
   "source": [
    "import threading\n",
    "\n",
    "# Get the count of active threads\n",
    "count = threading.activeCount()\n",
    "print(f\"Number of active threads: {count}\")\n"
   ]
  },
  {
   "cell_type": "markdown",
   "id": "f4e107f9-19bd-4db5-8bf4-17b7df4d9f35",
   "metadata": {},
   "source": [
    "currentThread(): The currentThread() function returns the current Thread object, representing the thread that calls this function. You can use it to access information about the currently executing thread."
   ]
  },
  {
   "cell_type": "code",
   "execution_count": 3,
   "id": "3387798d-98f7-4185-a14c-455184ee2b66",
   "metadata": {},
   "outputs": [
    {
     "name": "stdout",
     "output_type": "stream",
     "text": [
      "Current thread name: MainThread\n"
     ]
    },
    {
     "name": "stderr",
     "output_type": "stream",
     "text": [
      "/tmp/ipykernel_250/2304345622.py:4: DeprecationWarning: currentThread() is deprecated, use current_thread() instead\n",
      "  current_thread = threading.currentThread()\n"
     ]
    }
   ],
   "source": [
    "import threading\n",
    "\n",
    "# Get the current thread\n",
    "current_thread = threading.currentThread()\n",
    "print(f\"Current thread name: {current_thread.name}\")\n"
   ]
  },
  {
   "cell_type": "markdown",
   "id": "15eb6a95-3b7c-4cd4-be64-eb08a8aa74ec",
   "metadata": {},
   "source": [
    "enumerate(): The enumerate() function returns a list of all currently active Thread objects. It can be used to iterate through and inspect the properties of all active threads."
   ]
  },
  {
   "cell_type": "code",
   "execution_count": 4,
   "id": "6119a044-5db1-423c-a2ec-7c32f6ea5263",
   "metadata": {},
   "outputs": [
    {
     "name": "stdout",
     "output_type": "stream",
     "text": [
      "Thread Thread 0 is running\n",
      "Thread Thread 1 is running\n",
      "Thread Thread 2 is running\n",
      "Thread name: MainThread, Alive: True\n",
      "Thread name: IOPub, Alive: True\n",
      "Thread name: Heartbeat, Alive: True\n",
      "Thread name: Thread-3 (_watch_pipe_fd), Alive: True\n",
      "Thread name: Thread-4 (_watch_pipe_fd), Alive: True\n",
      "Thread name: Control, Alive: True\n",
      "Thread name: IPythonHistorySavingThread, Alive: True\n",
      "Thread name: Thread-2, Alive: True\n",
      "Main thread exiting\n"
     ]
    },
    {
     "name": "stderr",
     "output_type": "stream",
     "text": [
      "/tmp/ipykernel_250/511323936.py:5: DeprecationWarning: currentThread() is deprecated, use current_thread() instead\n",
      "  print(f\"Thread {threading.currentThread().name} is running\")\n"
     ]
    }
   ],
   "source": [
    "import threading\n",
    "\n",
    "# Create multiple threads\n",
    "def my_function():\n",
    "    print(f\"Thread {threading.currentThread().name} is running\")\n",
    "\n",
    "threads = [threading.Thread(target=my_function, name=f\"Thread {i}\") for i in range(3)]\n",
    "\n",
    "# Start the threads\n",
    "for thread in threads:\n",
    "    thread.start()\n",
    "\n",
    "# Enumerate and print information about all active threads\n",
    "for thread in threading.enumerate():\n",
    "    print(f\"Thread name: {thread.name}, Alive: {thread.is_alive()}\")\n",
    "\n",
    "# Wait for all threads to complete\n",
    "for thread in threads:\n",
    "    thread.join()\n",
    "\n",
    "print(\"Main thread exiting\")\n"
   ]
  },
  {
   "cell_type": "markdown",
   "id": "852fcc51-434c-43dc-8e69-d8f820b0439f",
   "metadata": {},
   "source": [
    "In the above example, enumerate() is used to list all the currently active threads, and their properties are printed.\n",
    "\n",
    "These functions are just a few examples of the features provided by the threading module to work with threads in Python. They are essential for managing and monitoring threads in multithreaded applications, allowing you to check the number of threads, access the current thread, and enumerate all active threads for various purposes, such as debugging or monitoring the execution of threads."
   ]
  },
  {
   "cell_type": "code",
   "execution_count": null,
   "id": "0fa13428-adb0-46dc-ab93-d3ea14f13397",
   "metadata": {},
   "outputs": [],
   "source": []
  },
  {
   "cell_type": "markdown",
   "id": "6af1b782-5a2c-4c9b-949e-1bd7a49fcda6",
   "metadata": {},
   "source": [
    "run(): The run() method is not a thread control method; it's a method you can override in your custom thread class. You can define the behavior that the thread should execute when it starts. By default, the run() method of the Thread class does nothing. You can create your own thread class by subclassing Thread and providing a custom run() method."
   ]
  },
  {
   "cell_type": "code",
   "execution_count": 5,
   "id": "2426076a-495d-4112-9b5b-b0c7cef99013",
   "metadata": {},
   "outputs": [
    {
     "name": "stdout",
     "output_type": "stream",
     "text": [
      "Thread Thread 1: 0\n",
      "Thread Thread 1: 1\n",
      "Thread Thread 1: 2\n",
      "Thread Thread 1: 3\n",
      "Thread Thread 1: 4\n",
      "Thread Thread 2: 0\n",
      "Thread Thread 2: 1\n",
      "Thread Thread 2: 2\n",
      "Thread Thread 2: 3\n",
      "Thread Thread 2: 4\n"
     ]
    }
   ],
   "source": [
    "import threading\n",
    "\n",
    "class MyThread(threading.Thread):\n",
    "    def run(self):\n",
    "        for i in range(5):\n",
    "            print(f\"Thread {self.name}: {i}\")\n",
    "\n",
    "thread1 = MyThread(name=\"Thread 1\")\n",
    "thread2 = MyThread(name=\"Thread 2\")\n",
    "\n",
    "thread1.start()\n",
    "thread2.start()\n"
   ]
  },
  {
   "cell_type": "markdown",
   "id": "8f9ce838-b868-4bb8-9b91-a9eadf7aa3fb",
   "metadata": {},
   "source": [
    "In this example, the run() method of the MyThread class is overridden to define the behavior of each thread."
   ]
  },
  {
   "cell_type": "markdown",
   "id": "fae37828-47b3-4f7b-a0d9-287651cc458d",
   "metadata": {},
   "source": [
    "start(): The start() method is used to initiate the execution of a thread. When you call start(), it schedules the thread for execution and invokes the run() method, which should be defined in your custom thread class or provided as the target argument when creating a Thread object."
   ]
  },
  {
   "cell_type": "code",
   "execution_count": 6,
   "id": "5892de0e-496f-4eb0-8ce2-4b89e57f8d01",
   "metadata": {},
   "outputs": [
    {
     "name": "stdout",
     "output_type": "stream",
     "text": [
      "Thread Thread 1 is running\n",
      "Thread Thread 2 is running\n"
     ]
    },
    {
     "name": "stderr",
     "output_type": "stream",
     "text": [
      "/tmp/ipykernel_250/511323936.py:5: DeprecationWarning: currentThread() is deprecated, use current_thread() instead\n",
      "  print(f\"Thread {threading.currentThread().name} is running\")\n"
     ]
    }
   ],
   "source": [
    "thread1 = threading.Thread(target=my_function, name=\"Thread 1\")\n",
    "thread2 = threading.Thread(target=my_function, name=\"Thread 2\")\n",
    "\n",
    "thread1.start()\n",
    "thread2.start()\n"
   ]
  },
  {
   "cell_type": "markdown",
   "id": "5e16ad6b-7ad5-482d-9056-82921da8f32e",
   "metadata": {},
   "source": [
    "In this example, start() is used to start two separate threads concurrently."
   ]
  },
  {
   "cell_type": "markdown",
   "id": "aa77e753-d3f6-4fdb-a8be-b41126ebec04",
   "metadata": {},
   "source": [
    "join(): The join() method is used to wait for a thread to complete its execution. When you call join() on a thread, the calling thread (often the main thread) will wait until the target thread has finished executing."
   ]
  },
  {
   "cell_type": "code",
   "execution_count": 7,
   "id": "59203503-3810-45e7-be4b-b9faa6d478da",
   "metadata": {},
   "outputs": [
    {
     "name": "stdout",
     "output_type": "stream",
     "text": [
      "Thread Thread 1 is running\n",
      "Thread Thread 2 is running\n",
      "Main thread exiting\n"
     ]
    },
    {
     "name": "stderr",
     "output_type": "stream",
     "text": [
      "/tmp/ipykernel_250/511323936.py:5: DeprecationWarning: currentThread() is deprecated, use current_thread() instead\n",
      "  print(f\"Thread {threading.currentThread().name} is running\")\n"
     ]
    }
   ],
   "source": [
    "thread1 = threading.Thread(target=my_function, name=\"Thread 1\")\n",
    "thread2 = threading.Thread(target=my_function, name=\"Thread 2\")\n",
    "\n",
    "thread1.start()\n",
    "thread2.start()\n",
    "\n",
    "thread1.join()\n",
    "thread2.join()\n",
    "\n",
    "print(\"Main thread exiting\")\n"
   ]
  },
  {
   "cell_type": "markdown",
   "id": "7749a1e3-58ad-4811-bcce-0abff6733599",
   "metadata": {},
   "source": [
    "In this example, the main thread will wait for thread1 and thread2 to complete before it continues executing."
   ]
  },
  {
   "cell_type": "markdown",
   "id": "52e20eae-84eb-4a17-a8d6-c396c5b8c940",
   "metadata": {},
   "source": [
    "isAlive(): The isAlive() method is used to check whether a thread is currently active or running. It returns True if the thread is still running, and False if it has finished its execution."
   ]
  },
  {
   "cell_type": "code",
   "execution_count": 8,
   "id": "39135e2b-e363-46bf-a010-76589bc88eae",
   "metadata": {},
   "outputs": [
    {
     "name": "stderr",
     "output_type": "stream",
     "text": [
      "/tmp/ipykernel_250/511323936.py:5: DeprecationWarning: currentThread() is deprecated, use current_thread() instead\n",
      "  print(f\"Thread {threading.currentThread().name} is running\")\n"
     ]
    },
    {
     "name": "stdout",
     "output_type": "stream",
     "text": [
      "Thread Thread 1 is running\n"
     ]
    },
    {
     "ename": "AttributeError",
     "evalue": "'Thread' object has no attribute 'isAlive'",
     "output_type": "error",
     "traceback": [
      "\u001b[0;31m---------------------------------------------------------------------------\u001b[0m",
      "\u001b[0;31mAttributeError\u001b[0m                            Traceback (most recent call last)",
      "Cell \u001b[0;32mIn[8], line 4\u001b[0m\n\u001b[1;32m      1\u001b[0m thread1 \u001b[38;5;241m=\u001b[39m threading\u001b[38;5;241m.\u001b[39mThread(target\u001b[38;5;241m=\u001b[39mmy_function, name\u001b[38;5;241m=\u001b[39m\u001b[38;5;124m\"\u001b[39m\u001b[38;5;124mThread 1\u001b[39m\u001b[38;5;124m\"\u001b[39m)\n\u001b[1;32m      2\u001b[0m thread1\u001b[38;5;241m.\u001b[39mstart()\n\u001b[0;32m----> 4\u001b[0m \u001b[38;5;28mprint\u001b[39m(\u001b[38;5;124mf\u001b[39m\u001b[38;5;124m\"\u001b[39m\u001b[38;5;124mThread 1 is alive: \u001b[39m\u001b[38;5;132;01m{\u001b[39;00m\u001b[43mthread1\u001b[49m\u001b[38;5;241;43m.\u001b[39;49m\u001b[43misAlive\u001b[49m()\u001b[38;5;132;01m}\u001b[39;00m\u001b[38;5;124m\"\u001b[39m)\n\u001b[1;32m      6\u001b[0m thread1\u001b[38;5;241m.\u001b[39mjoin()\n\u001b[1;32m      8\u001b[0m \u001b[38;5;28mprint\u001b[39m(\u001b[38;5;124mf\u001b[39m\u001b[38;5;124m\"\u001b[39m\u001b[38;5;124mThread 1 is alive: \u001b[39m\u001b[38;5;132;01m{\u001b[39;00mthread1\u001b[38;5;241m.\u001b[39misAlive()\u001b[38;5;132;01m}\u001b[39;00m\u001b[38;5;124m\"\u001b[39m)\n",
      "\u001b[0;31mAttributeError\u001b[0m: 'Thread' object has no attribute 'isAlive'"
     ]
    }
   ],
   "source": [
    "thread1 = threading.Thread(target=my_function, name=\"Thread 1\")\n",
    "thread1.start()\n",
    "\n",
    "print(f\"Thread 1 is alive: {thread1.isAlive()}\")\n",
    "\n",
    "thread1.join()\n",
    "\n",
    "print(f\"Thread 1 is alive: {thread1.isAlive()}\")\n"
   ]
  },
  {
   "cell_type": "markdown",
   "id": "0bc3d3dd-def6-45af-b637-acb2c422e207",
   "metadata": {},
   "source": [
    "In this example, isAlive() is used to check the status of thread1 before and after calling join()"
   ]
  },
  {
   "cell_type": "markdown",
   "id": "501e7ff0-2cf7-46b2-a789-1add562f881a",
   "metadata": {},
   "source": [
    "These methods are essential for controlling the behavior of threads, starting and monitoring their execution, and ensuring proper synchronization in a multithreaded Python program."
   ]
  },
  {
   "cell_type": "code",
   "execution_count": null,
   "id": "54c8457b-c449-44e0-b554-03666f999e57",
   "metadata": {},
   "outputs": [],
   "source": []
  },
  {
   "cell_type": "code",
   "execution_count": 9,
   "id": "56a9803c-0eef-4558-b0d6-ae89fe001229",
   "metadata": {},
   "outputs": [
    {
     "name": "stdout",
     "output_type": "stream",
     "text": [
      "Square of 1: 1\n",
      "Square of 2: 4\n",
      "Square of 3: 9\n",
      "Square of 4: 16\n",
      "Square of 5: 25\n",
      "Cube of 1: 1\n",
      "Cube of 2: 8\n",
      "Cube of 3: 27\n",
      "Cube of 4: 64\n",
      "Cube of 5: 125\n",
      "Main thread exiting\n"
     ]
    }
   ],
   "source": [
    "import threading\n",
    "\n",
    "def print_squares(n):\n",
    "    for i in range(1, n + 1):\n",
    "        print(f\"Square of {i}: {i ** 2}\")\n",
    "\n",
    "def print_cubes(n):\n",
    "    for i in range(1, n + 1):\n",
    "        print(f\"Cube of {i}: {i ** 3}\")\n",
    "\n",
    "# Define the number for which you want to print squares and cubes\n",
    "number = 5\n",
    "\n",
    "# Create two threads, one for squares and one for cubes\n",
    "thread_square = threading.Thread(target=print_squares, args=(number,))\n",
    "thread_cube = threading.Thread(target=print_cubes, args=(number,))\n",
    "\n",
    "# Start the threads\n",
    "thread_square.start()\n",
    "thread_cube.start()\n",
    "\n",
    "# Wait for both threads to complete\n",
    "thread_square.join()\n",
    "thread_cube.join()\n",
    "\n",
    "print(\"Main thread exiting\")\n"
   ]
  },
  {
   "cell_type": "code",
   "execution_count": null,
   "id": "20f8c4ea-5a94-46c0-bf8b-51ef94f36f71",
   "metadata": {},
   "outputs": [],
   "source": []
  },
  {
   "cell_type": "markdown",
   "id": "4f23f0ed-35e4-4e67-9685-5b79590a187c",
   "metadata": {},
   "source": [
    "Multithreading in programming has several advantages and disadvantages, and the decision to use multithreading should be made based on the specific requirements and constraints of your application. Here are some of the advantages and disadvantages of multithreading:"
   ]
  },
  {
   "cell_type": "markdown",
   "id": "36c1c5e0-2f01-4eb2-8376-f3042f0a41bc",
   "metadata": {},
   "source": [
    "Advantages of Multithreading:\n",
    "Improved Performance: Multithreading can enhance the performance of CPU-bound tasks by taking advantage of multi-core processors. It allows multiple threads to execute concurrently, making better use of available resources.\n",
    "\n",
    "Responsiveness: Multithreading is valuable for maintaining application responsiveness, particularly in user interfaces and interactive applications. By delegating time-consuming tasks to separate threads, the main thread remains free to respond to user input.\n",
    "\n",
    "Resource Sharing: Threads within the same process can easily share data and resources, making it convenient for components of an application to cooperate and communicate.\n",
    "\n",
    "Efficient I/O Handling: Multithreading is well-suited for I/O-bound tasks, such as reading/writing files or performing network operations. While one thread is waiting for I/O, other threads can continue to execute.\n",
    "\n",
    "Parallelism: Multithreading allows you to achieve parallelism in your application, which can significantly speed up the execution of tasks that can be divided into smaller, independent subtasks.\n",
    "\n",
    "Disadvantages of Multithreading:\n",
    "\n",
    "Complexity: Multithreading introduces complexities related to thread synchronization and coordination. Ensuring that multiple threads access shared resources safely can be challenging and error-prone.\n",
    "\n",
    "Race Conditions: Race conditions can occur when multiple threads try to access and modify shared data simultaneously. If not properly managed with locks or other synchronization mechanisms, these can lead to unpredictable and undesirable behavior.\n",
    "\n",
    "Deadlocks: Deadlocks happen when two or more threads wait indefinitely for each other to release resources. It can be challenging to identify and resolve deadlocks.\n",
    "\n",
    "Increased Memory Overhead: Each thread in a multithreaded application has its own stack and resources, which can result in higher memory consumption compared to single-threaded applications.\n",
    "\n",
    "Debugging Complexity: Debugging multithreaded applications can be more challenging because the order of thread execution is non-deterministic, making it difficult to reproduce and diagnose issues.\n",
    "\n",
    "Thread Safety: Ensuring that code is thread-safe can be demanding. It may require careful design and additional effort to protect shared data from concurrent access.\n",
    "\n",
    "Limited Scalability: While multithreading can provide performance benefits, there is a practical limit to the number of threads that can be created and managed effectively. Excessive thread creation can lead to overhead and inefficiency.\n",
    "\n",
    "In summary, multithreading can significantly improve the performance and responsiveness of certain applications, especially those with concurrent and parallelizable tasks. However, it also comes with challenges related to concurrency control and the potential for issues like race conditions and deadlocks. Careful design, thread safety measures, and proper testing are essential when implementing multithreading in your applications.\n"
   ]
  },
  {
   "cell_type": "code",
   "execution_count": null,
   "id": "1ec5c828-81e7-41b6-bfb0-0a3a0ec6517b",
   "metadata": {},
   "outputs": [],
   "source": []
  }
 ],
 "metadata": {
  "kernelspec": {
   "display_name": "Python 3 (ipykernel)",
   "language": "python",
   "name": "python3"
  },
  "language_info": {
   "codemirror_mode": {
    "name": "ipython",
    "version": 3
   },
   "file_extension": ".py",
   "mimetype": "text/x-python",
   "name": "python",
   "nbconvert_exporter": "python",
   "pygments_lexer": "ipython3",
   "version": "3.10.8"
  }
 },
 "nbformat": 4,
 "nbformat_minor": 5
}
